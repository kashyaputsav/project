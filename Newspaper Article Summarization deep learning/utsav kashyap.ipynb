{
 "cells": [
  {
   "cell_type": "code",
   "execution_count": null,
   "id": "rapid-correction",
   "metadata": {
    "execution": {
     "iopub.execute_input": "2021-04-05T01:54:25.761850Z",
     "iopub.status.busy": "2021-04-05T01:54:25.760634Z",
     "iopub.status.idle": "2021-04-05T01:54:33.451664Z",
     "shell.execute_reply": "2021-04-05T01:54:33.450357Z"
    },
    "papermill": {
     "duration": 7.77362,
     "end_time": "2021-04-05T01:54:33.451872",
     "exception": false,
     "start_time": "2021-04-05T01:54:25.678252",
     "status": "completed"
    },
    "tags": []
   },
   "outputs": [],
   "source": [
    "import os\n",
    "import re\n",
    "import pickle\n",
    "import string\n",
    "import unicodedata\n",
    "from random import randint\n",
    "\n",
    "import numpy as np\n",
    "import pandas as pd # type: ignore\n",
    "import seaborn as sns\n",
    "import matplotlib.pyplot as plt\n",
    "\n",
    "from nltk.corpus import stopwords\n",
    "from wordcloud import STOPWORDS, WordCloud\n",
    "\n",
    "from sklearn.model_selection import train_test_split\n",
    "\n",
    "import tensorflow as tf\n",
    "from tensorflow.keras import Input, Model\n",
    "from tensorflow.keras.preprocessing.text import Tokenizer\n",
    "from tensorflow.keras.preprocessing.sequence import pad_sequences\n",
    "from tensorflow.keras.callbacks import EarlyStopping, ReduceLROnPlateau\n",
    "from tensorflow.keras.layers import LSTM, Bidirectional, Dense, Embedding, TimeDistributed"
   ]
  },
  {
   "cell_type": "code",
   "execution_count": null,
   "id": "handy-union",
   "metadata": {
    "execution": {
     "iopub.execute_input": "2021-04-05T01:54:33.638375Z",
     "iopub.status.busy": "2021-04-05T01:54:33.624888Z",
     "iopub.status.idle": "2021-04-05T01:54:46.520965Z",
     "shell.execute_reply": "2021-04-05T01:54:46.520103Z"
    },
    "papermill": {
     "duration": 12.985933,
     "end_time": "2021-04-05T01:54:46.521107",
     "exception": false,
     "start_time": "2021-04-05T01:54:33.535174",
     "status": "completed"
    },
    "tags": []
   },
   "outputs": [],
   "source": [
    "!pip install -q contractions==0.0.48"
   ]
  },
  {
   "cell_type": "code",
   "execution_count": null,
   "id": "scheduled-college",
   "metadata": {
    "execution": {
     "iopub.execute_input": "2021-04-05T01:54:46.688231Z",
     "iopub.status.busy": "2021-04-05T01:54:46.687519Z",
     "iopub.status.idle": "2021-04-05T01:54:46.705103Z",
     "shell.execute_reply": "2021-04-05T01:54:46.704495Z"
    },
    "papermill": {
     "duration": 0.103127,
     "end_time": "2021-04-05T01:54:46.705252",
     "exception": false,
     "start_time": "2021-04-05T01:54:46.602125",
     "status": "completed"
    },
    "tags": []
   },
   "outputs": [
    {
     "name": "stdout",
     "output_type": "stream",
     "text": [
      "I'm == I am\n",
      "I'm'a == I am about to\n",
      "I'm'o == I am going to\n",
      "I've == I have\n",
      "I'll == I will\n",
      "I'll've == I will have\n",
      "I'd == I would\n",
      "I'd've == I would have\n",
      "Whatcha == What are you\n",
      "amn't == am not\n"
     ]
    }
   ],
   "source": [
    "from contractions import contractions_dict\n",
    "\n",
    "for key, value in list(contractions_dict.items())[:10]:\n",
    "    print(f'{key} == {value}')"
   ]
  },
  {
   "cell_type": "code",
   "execution_count": null,
   "id": "tender-firewall",
   "metadata": {
    "execution": {
     "iopub.execute_input": "2021-04-05T01:54:52.552264Z",
     "iopub.status.busy": "2021-04-05T01:54:52.551590Z",
     "iopub.status.idle": "2021-04-05T01:54:53.987614Z",
     "shell.execute_reply": "2021-04-05T01:54:53.987064Z"
    },
    "papermill": {
     "duration": 1.518768,
     "end_time": "2021-04-05T01:54:53.987764",
     "exception": false,
     "start_time": "2021-04-05T01:54:52.468996",
     "status": "completed"
    },
    "tags": []
   },
   "outputs": [],
   "source": [
    "filename1 = '../input/news-summary/news_summary.csv'\n",
    "filename2 = '../input/news-summary/news_summary_more.csv'\n",
    "\n",
    "df1 = pd.read_csv(filename1, encoding='iso-8859-1').reset_index(drop=True)\n",
    "df2 = pd.read_csv(filename2, encoding='iso-8859-1').reset_index(drop=True)"
   ]
  },
  {
   "cell_type": "code",
   "execution_count": null,
   "id": "precise-audience",
   "metadata": {
    "execution": {
     "iopub.execute_input": "2021-04-05T01:54:54.157964Z",
     "iopub.status.busy": "2021-04-05T01:54:54.157267Z",
     "iopub.status.idle": "2021-04-05T01:54:54.186596Z",
     "shell.execute_reply": "2021-04-05T01:54:54.187129Z"
    },
    "papermill": {
     "duration": 0.118985,
     "end_time": "2021-04-05T01:54:54.187303",
     "exception": false,
     "start_time": "2021-04-05T01:54:54.068318",
     "status": "completed"
    },
    "tags": []
   },
   "outputs": [
    {
     "data": {
      "text/html": [
       "<div>\n",
       "<style scoped>\n",
       "    .dataframe tbody tr th:only-of-type {\n",
       "        vertical-align: middle;\n",
       "    }\n",
       "\n",
       "    .dataframe tbody tr th {\n",
       "        vertical-align: top;\n",
       "    }\n",
       "\n",
       "    .dataframe thead th {\n",
       "        text-align: right;\n",
       "    }\n",
       "</style>\n",
       "<table border=\"1\" class=\"dataframe\">\n",
       "  <thead>\n",
       "    <tr style=\"text-align: right;\">\n",
       "      <th></th>\n",
       "      <th>author</th>\n",
       "      <th>date</th>\n",
       "      <th>headlines</th>\n",
       "      <th>read_more</th>\n",
       "      <th>text</th>\n",
       "      <th>ctext</th>\n",
       "    </tr>\n",
       "  </thead>\n",
       "  <tbody>\n",
       "    <tr>\n",
       "      <th>1722</th>\n",
       "      <td>Chhavi Tyagi</td>\n",
       "      <td>06 Jan 2017,Friday</td>\n",
       "      <td>Modi must go, let Advani, Jaitley or Rajnath l...</td>\n",
       "      <td>http://indiatoday.intoday.in/story/modi-advani...</td>\n",
       "      <td>West Bengal Chief Minister Mamata Banerjee on ...</td>\n",
       "      <td>A belligerent Mamata Banerjee continued her at...</td>\n",
       "    </tr>\n",
       "    <tr>\n",
       "      <th>1354</th>\n",
       "      <td>Chhavi Tyagi</td>\n",
       "      <td>31 Jan 2017,Tuesday</td>\n",
       "      <td>Former Minister E Ahamed collapses in Parliament</td>\n",
       "      <td>http://indiatoday.intoday.in/story/kerala-mp-e...</td>\n",
       "      <td>E Ahamed, the former MoS for external affairs ...</td>\n",
       "      <td>IUML leader E Ahamed today suffered a heart at...</td>\n",
       "    </tr>\n",
       "    <tr>\n",
       "      <th>3951</th>\n",
       "      <td>Tarun Khanna</td>\n",
       "      <td>04 Apr 2017,Tuesday</td>\n",
       "      <td>Give us EVM for 72 hrs, will show how to rig i...</td>\n",
       "      <td>http://indiatoday.intoday.in/story/election-co...</td>\n",
       "      <td>Delhi CM Arvind Kejriwal has challenged the El...</td>\n",
       "      <td>The Election Commission (EC) has refuted the a...</td>\n",
       "    </tr>\n",
       "    <tr>\n",
       "      <th>1961</th>\n",
       "      <td>Vaibhav Gupta</td>\n",
       "      <td>21 Dec 2016,Wednesday</td>\n",
       "      <td>Note ban has reduced Andhra's revenue by 30%: ...</td>\n",
       "      <td>http://indiatoday.intoday.in/story/note-ban-hi...</td>\n",
       "      <td>Andhra Pradesh Finance Minister Y Ramakrishnud...</td>\n",
       "      <td>Vijayawada, Dec 21 (PTI) Demonetisation has le...</td>\n",
       "    </tr>\n",
       "    <tr>\n",
       "      <th>465</th>\n",
       "      <td>Radhika Chugh</td>\n",
       "      <td>27 Jul 2017,Thursday</td>\n",
       "      <td>6 Congress MPs suspended from Lok Sabha</td>\n",
       "      <td>http://www.hindustantimes.com/india-news/six-c...</td>\n",
       "      <td>Lok Sabha Speaker Sumitra Mahajan on Monday su...</td>\n",
       "      <td>The Lok Sabha Speaker suspended six Congress p...</td>\n",
       "    </tr>\n",
       "  </tbody>\n",
       "</table>\n",
       "</div>"
      ],
      "text/plain": [
       "             author                   date  \\\n",
       "1722   Chhavi Tyagi     06 Jan 2017,Friday   \n",
       "1354   Chhavi Tyagi    31 Jan 2017,Tuesday   \n",
       "3951   Tarun Khanna    04 Apr 2017,Tuesday   \n",
       "1961  Vaibhav Gupta  21 Dec 2016,Wednesday   \n",
       "465   Radhika Chugh   27 Jul 2017,Thursday   \n",
       "\n",
       "                                              headlines  \\\n",
       "1722  Modi must go, let Advani, Jaitley or Rajnath l...   \n",
       "1354   Former Minister E Ahamed collapses in Parliament   \n",
       "3951  Give us EVM for 72 hrs, will show how to rig i...   \n",
       "1961  Note ban has reduced Andhra's revenue by 30%: ...   \n",
       "465             6 Congress MPs suspended from Lok Sabha   \n",
       "\n",
       "                                              read_more  \\\n",
       "1722  http://indiatoday.intoday.in/story/modi-advani...   \n",
       "1354  http://indiatoday.intoday.in/story/kerala-mp-e...   \n",
       "3951  http://indiatoday.intoday.in/story/election-co...   \n",
       "1961  http://indiatoday.intoday.in/story/note-ban-hi...   \n",
       "465   http://www.hindustantimes.com/india-news/six-c...   \n",
       "\n",
       "                                                   text  \\\n",
       "1722  West Bengal Chief Minister Mamata Banerjee on ...   \n",
       "1354  E Ahamed, the former MoS for external affairs ...   \n",
       "3951  Delhi CM Arvind Kejriwal has challenged the El...   \n",
       "1961  Andhra Pradesh Finance Minister Y Ramakrishnud...   \n",
       "465   Lok Sabha Speaker Sumitra Mahajan on Monday su...   \n",
       "\n",
       "                                                  ctext  \n",
       "1722  A belligerent Mamata Banerjee continued her at...  \n",
       "1354  IUML leader E Ahamed today suffered a heart at...  \n",
       "3951  The Election Commission (EC) has refuted the a...  \n",
       "1961  Vijayawada, Dec 21 (PTI) Demonetisation has le...  \n",
       "465   The Lok Sabha Speaker suspended six Congress p...  "
      ]
     },
     "execution_count": 6,
     "metadata": {},
     "output_type": "execute_result"
    }
   ],
   "source": [
    "df1.sample(5)"
   ]
  },
  {
   "cell_type": "code",
   "execution_count": null,
   "id": "impressive-default",
   "metadata": {
    "execution": {
     "iopub.execute_input": "2021-04-05T01:54:54.363493Z",
     "iopub.status.busy": "2021-04-05T01:54:54.362391Z",
     "iopub.status.idle": "2021-04-05T01:54:54.366948Z",
     "shell.execute_reply": "2021-04-05T01:54:54.366420Z"
    },
    "papermill": {
     "duration": 0.0982,
     "end_time": "2021-04-05T01:54:54.367092",
     "exception": false,
     "start_time": "2021-04-05T01:54:54.268892",
     "status": "completed"
    },
    "tags": []
   },
   "outputs": [
    {
     "data": {
      "text/html": [
       "<div>\n",
       "<style scoped>\n",
       "    .dataframe tbody tr th:only-of-type {\n",
       "        vertical-align: middle;\n",
       "    }\n",
       "\n",
       "    .dataframe tbody tr th {\n",
       "        vertical-align: top;\n",
       "    }\n",
       "\n",
       "    .dataframe thead th {\n",
       "        text-align: right;\n",
       "    }\n",
       "</style>\n",
       "<table border=\"1\" class=\"dataframe\">\n",
       "  <thead>\n",
       "    <tr style=\"text-align: right;\">\n",
       "      <th></th>\n",
       "      <th>headlines</th>\n",
       "      <th>text</th>\n",
       "    </tr>\n",
       "  </thead>\n",
       "  <tbody>\n",
       "    <tr>\n",
       "      <th>53041</th>\n",
       "      <td>Selling sex in Bollywood is dead: Filmmaker Vi...</td>\n",
       "      <td>Filmmaker Vikram Bhatt, who is known for his b...</td>\n",
       "    </tr>\n",
       "    <tr>\n",
       "      <th>61744</th>\n",
       "      <td>Telangana govt declares Urdu as second officia...</td>\n",
       "      <td>Telangana Chief Minister K Chandrashekar Rao o...</td>\n",
       "    </tr>\n",
       "    <tr>\n",
       "      <th>4742</th>\n",
       "      <td>Vanakam Puducherry: Rahul says is PM's answer ...</td>\n",
       "      <td>Taking a dig at PM Narendra Modi for allegedly...</td>\n",
       "    </tr>\n",
       "    <tr>\n",
       "      <th>34195</th>\n",
       "      <td>Let's not explore political mileage in Ram's n...</td>\n",
       "      <td>Talking about the Ayodhya dispute, Vishva Hind...</td>\n",
       "    </tr>\n",
       "    <tr>\n",
       "      <th>26730</th>\n",
       "      <td>Disappointed, not surprised: Cyrus Mistry on N...</td>\n",
       "      <td>Cyrus Mistry has said he was disappointed but ...</td>\n",
       "    </tr>\n",
       "  </tbody>\n",
       "</table>\n",
       "</div>"
      ],
      "text/plain": [
       "                                               headlines  \\\n",
       "53041  Selling sex in Bollywood is dead: Filmmaker Vi...   \n",
       "61744  Telangana govt declares Urdu as second officia...   \n",
       "4742   Vanakam Puducherry: Rahul says is PM's answer ...   \n",
       "34195  Let's not explore political mileage in Ram's n...   \n",
       "26730  Disappointed, not surprised: Cyrus Mistry on N...   \n",
       "\n",
       "                                                    text  \n",
       "53041  Filmmaker Vikram Bhatt, who is known for his b...  \n",
       "61744  Telangana Chief Minister K Chandrashekar Rao o...  \n",
       "4742   Taking a dig at PM Narendra Modi for allegedly...  \n",
       "34195  Talking about the Ayodhya dispute, Vishva Hind...  \n",
       "26730  Cyrus Mistry has said he was disappointed but ...  "
      ]
     },
     "execution_count": 7,
     "metadata": {},
     "output_type": "execute_result"
    }
   ],
   "source": [
    "df2.sample(5)"
   ]
  },
  {
   "cell_type": "code",
   "execution_count": null,
   "id": "minute-residence",
   "metadata": {
    "execution": {
     "iopub.execute_input": "2021-04-05T01:54:54.541593Z",
     "iopub.status.busy": "2021-04-05T01:54:54.539978Z",
     "iopub.status.idle": "2021-04-05T01:54:54.589431Z",
     "shell.execute_reply": "2021-04-05T01:54:54.589968Z"
    },
    "papermill": {
     "duration": 0.139982,
     "end_time": "2021-04-05T01:54:54.590140",
     "exception": false,
     "start_time": "2021-04-05T01:54:54.450158",
     "status": "completed"
    },
    "tags": []
   },
   "outputs": [
    {
     "name": "stdout",
     "output_type": "stream",
     "text": [
      "Dataset size: 102915\n"
     ]
    },
    {
     "data": {
      "text/html": [
       "<div>\n",
       "<style scoped>\n",
       "    .dataframe tbody tr th:only-of-type {\n",
       "        vertical-align: middle;\n",
       "    }\n",
       "\n",
       "    .dataframe tbody tr th {\n",
       "        vertical-align: top;\n",
       "    }\n",
       "\n",
       "    .dataframe thead th {\n",
       "        text-align: right;\n",
       "    }\n",
       "</style>\n",
       "<table border=\"1\" class=\"dataframe\">\n",
       "  <thead>\n",
       "    <tr style=\"text-align: right;\">\n",
       "      <th></th>\n",
       "      <th>headlines</th>\n",
       "      <th>text</th>\n",
       "    </tr>\n",
       "  </thead>\n",
       "  <tbody>\n",
       "    <tr>\n",
       "      <th>45406</th>\n",
       "      <td>Former Huawei engineer 'marries' robot he buil...</td>\n",
       "      <td>A former Huawei engineer from China has \"marri...</td>\n",
       "    </tr>\n",
       "    <tr>\n",
       "      <th>101543</th>\n",
       "      <td>Aus brand creates Harry Potter-inspired clothi...</td>\n",
       "      <td>Australian fashion label Black Milk has create...</td>\n",
       "    </tr>\n",
       "    <tr>\n",
       "      <th>24029</th>\n",
       "      <td>Australia to sell Kesar variety of Indian mang...</td>\n",
       "      <td>Australia will be selling Kesar variety of Ind...</td>\n",
       "    </tr>\n",
       "    <tr>\n",
       "      <th>15782</th>\n",
       "      <td>White House hires outside counsel to deal with...</td>\n",
       "      <td>US Vice President Mike Pence has reportedly hi...</td>\n",
       "    </tr>\n",
       "    <tr>\n",
       "      <th>44624</th>\n",
       "      <td>AT&amp;T updates 4G logo with '5G E', criticised f...</td>\n",
       "      <td>US-based telco AT&amp;T received criticism from it...</td>\n",
       "    </tr>\n",
       "  </tbody>\n",
       "</table>\n",
       "</div>"
      ],
      "text/plain": [
       "                                                headlines  \\\n",
       "45406   Former Huawei engineer 'marries' robot he buil...   \n",
       "101543  Aus brand creates Harry Potter-inspired clothi...   \n",
       "24029   Australia to sell Kesar variety of Indian mang...   \n",
       "15782   White House hires outside counsel to deal with...   \n",
       "44624   AT&T updates 4G logo with '5G E', criticised f...   \n",
       "\n",
       "                                                     text  \n",
       "45406   A former Huawei engineer from China has \"marri...  \n",
       "101543  Australian fashion label Black Milk has create...  \n",
       "24029   Australia will be selling Kesar variety of Ind...  \n",
       "15782   US Vice President Mike Pence has reportedly hi...  \n",
       "44624   US-based telco AT&T received criticism from it...  "
      ]
     },
     "execution_count": 8,
     "metadata": {},
     "output_type": "execute_result"
    }
   ],
   "source": [
    "df1_columns = df1.columns.tolist()\n",
    "df1_columns.remove('headlines')\n",
    "df1_columns.remove('text')\n",
    "df1.drop(df1_columns, axis='columns', inplace=True)\n",
    "\n",
    "df = pd.concat([df1, df2], axis='rows')\n",
    "del df1, df2\n",
    "\n",
    "# Shuffling the df\n",
    "df = df.sample(frac=1).reset_index(drop=True)\n",
    "\n",
    "print(f'Dataset size: {len(df)}')\n",
    "df.sample(5)"
   ]
  },
  {
   "cell_type": "code",
   "execution_count": null,
   "id": "coordinate-frequency",
   "metadata": {
    "execution": {
     "iopub.execute_input": "2021-04-05T01:54:55.401964Z",
     "iopub.status.busy": "2021-04-05T01:54:55.288407Z",
     "iopub.status.idle": "2021-04-05T01:54:55.481579Z",
     "shell.execute_reply": "2021-04-05T01:54:55.480928Z"
    },
    "papermill": {
     "duration": 0.28355,
     "end_time": "2021-04-05T01:54:55.481732",
     "exception": false,
     "start_time": "2021-04-05T01:54:55.198182",
     "status": "completed"
    },
    "tags": []
   },
   "outputs": [
    {
     "data": {
      "text/html": [
       "<div>\n",
       "<style scoped>\n",
       "    .dataframe tbody tr th:only-of-type {\n",
       "        vertical-align: middle;\n",
       "    }\n",
       "\n",
       "    .dataframe tbody tr th {\n",
       "        vertical-align: top;\n",
       "    }\n",
       "\n",
       "    .dataframe thead th {\n",
       "        text-align: right;\n",
       "    }\n",
       "</style>\n",
       "<table border=\"1\" class=\"dataframe\">\n",
       "  <thead>\n",
       "    <tr style=\"text-align: right;\">\n",
       "      <th></th>\n",
       "      <th>headlines</th>\n",
       "      <th>text</th>\n",
       "    </tr>\n",
       "  </thead>\n",
       "  <tbody>\n",
       "    <tr>\n",
       "      <th>22697</th>\n",
       "      <td>92 witnesses, 100 evidences in mandsaur gangra...</td>\n",
       "      <td>mandsaur police on tuesday filed a 350-page ch...</td>\n",
       "    </tr>\n",
       "    <tr>\n",
       "      <th>79342</th>\n",
       "      <td>pm modi meets fishermen affected by cyclone ockhi</td>\n",
       "      <td>prime minister narendra modi on tuesday met fi...</td>\n",
       "    </tr>\n",
       "    <tr>\n",
       "      <th>51795</th>\n",
       "      <td>can't eat dal-chawal all day: shreyas on doing...</td>\n",
       "      <td>shreyas talpade has said, \"one can't eat 'dal-...</td>\n",
       "    </tr>\n",
       "    <tr>\n",
       "      <th>33033</th>\n",
       "      <td>govt restricts operations of 2.09 lakh firms' ...</td>\n",
       "      <td>finance ministry on tuesday said operations of...</td>\n",
       "    </tr>\n",
       "    <tr>\n",
       "      <th>51218</th>\n",
       "      <td>suffering from facial paralysis: simran writer...</td>\n",
       "      <td>apurva asrani, co-writer of kangana ranaut's '...</td>\n",
       "    </tr>\n",
       "  </tbody>\n",
       "</table>\n",
       "</div>"
      ],
      "text/plain": [
       "                                               headlines  \\\n",
       "22697  92 witnesses, 100 evidences in mandsaur gangra...   \n",
       "79342  pm modi meets fishermen affected by cyclone ockhi   \n",
       "51795  can't eat dal-chawal all day: shreyas on doing...   \n",
       "33033  govt restricts operations of 2.09 lakh firms' ...   \n",
       "51218  suffering from facial paralysis: simran writer...   \n",
       "\n",
       "                                                    text  \n",
       "22697  mandsaur police on tuesday filed a 350-page ch...  \n",
       "79342  prime minister narendra modi on tuesday met fi...  \n",
       "51795  shreyas talpade has said, \"one can't eat 'dal-...  \n",
       "33033  finance ministry on tuesday said operations of...  \n",
       "51218  apurva asrani, co-writer of kangana ranaut's '...  "
      ]
     },
     "execution_count": 10,
     "metadata": {},
     "output_type": "execute_result"
    }
   ],
   "source": [
    "# Converting to lowercase\n",
    "df.text = df.text.apply(str.lower)\n",
    "df.headlines = df.headlines.apply(str.lower)\n",
    "\n",
    "df.sample(5)"
   ]
  },
  {
   "cell_type": "code",
   "execution_count": null,
   "id": "aerial-induction",
   "metadata": {
    "execution": {
     "iopub.execute_input": "2021-04-05T01:54:55.663240Z",
     "iopub.status.busy": "2021-04-05T01:54:55.658093Z",
     "iopub.status.idle": "2021-04-05T01:55:40.814375Z",
     "shell.execute_reply": "2021-04-05T01:55:40.814913Z"
    },
    "papermill": {
     "duration": 45.247009,
     "end_time": "2021-04-05T01:55:40.815121",
     "exception": false,
     "start_time": "2021-04-05T01:54:55.568112",
     "status": "completed"
    },
    "tags": []
   },
   "outputs": [
    {
     "data": {
      "text/html": [
       "<div>\n",
       "<style scoped>\n",
       "    .dataframe tbody tr th:only-of-type {\n",
       "        vertical-align: middle;\n",
       "    }\n",
       "\n",
       "    .dataframe tbody tr th {\n",
       "        vertical-align: top;\n",
       "    }\n",
       "\n",
       "    .dataframe thead th {\n",
       "        text-align: right;\n",
       "    }\n",
       "</style>\n",
       "<table border=\"1\" class=\"dataframe\">\n",
       "  <thead>\n",
       "    <tr style=\"text-align: right;\">\n",
       "      <th></th>\n",
       "      <th>headlines</th>\n",
       "      <th>text</th>\n",
       "    </tr>\n",
       "  </thead>\n",
       "  <tbody>\n",
       "    <tr>\n",
       "      <th>69141</th>\n",
       "      <td>who are the sentinelese, tribe that killed an ...</td>\n",
       "      <td>the sentinelese are an indigenous tribe who ha...</td>\n",
       "    </tr>\n",
       "    <tr>\n",
       "      <th>8469</th>\n",
       "      <td>internet should be utility available to whole ...</td>\n",
       "      <td>chinas e-commerce giant alibabas founder, jack...</td>\n",
       "    </tr>\n",
       "    <tr>\n",
       "      <th>41465</th>\n",
       "      <td>maoists kill watchman, set ablaze 5 vehicles i...</td>\n",
       "      <td>maoists shot dead a watchman, suspecting him t...</td>\n",
       "    </tr>\n",
       "    <tr>\n",
       "      <th>99162</th>\n",
       "      <td>salmans nephew ahils 1st birthday celebrated i...</td>\n",
       "      <td>salman khans sister arpita khan sharma shared ...</td>\n",
       "    </tr>\n",
       "    <tr>\n",
       "      <th>15109</th>\n",
       "      <td>perhaps rahul plans to win polls in russia, in...</td>\n",
       "      <td>mocking congress vice president rahul gandhi, ...</td>\n",
       "    </tr>\n",
       "  </tbody>\n",
       "</table>\n",
       "</div>"
      ],
      "text/plain": [
       "                                               headlines  \\\n",
       "69141  who are the sentinelese, tribe that killed an ...   \n",
       "8469   internet should be utility available to whole ...   \n",
       "41465  maoists kill watchman, set ablaze 5 vehicles i...   \n",
       "99162  salmans nephew ahils 1st birthday celebrated i...   \n",
       "15109  perhaps rahul plans to win polls in russia, in...   \n",
       "\n",
       "                                                    text  \n",
       "69141  the sentinelese are an indigenous tribe who ha...  \n",
       "8469   chinas e-commerce giant alibabas founder, jack...  \n",
       "41465  maoists shot dead a watchman, suspecting him t...  \n",
       "99162  salman khans sister arpita khan sharma shared ...  \n",
       "15109  mocking congress vice president rahul gandhi, ...  "
      ]
     },
     "execution_count": 11,
     "metadata": {},
     "output_type": "execute_result"
    }
   ],
   "source": [
    "df.headlines = df.headlines.apply(expand_contractions)\n",
    "df.text = df.text.apply(expand_contractions)\n",
    "df.sample(5)"
   ]
  },
  {
   "cell_type": "code",
   "execution_count": null,
   "id": "broken-horror",
   "metadata": {
    "execution": {
     "iopub.execute_input": "2021-04-05T01:55:41.171164Z",
     "iopub.status.busy": "2021-04-05T01:55:41.170505Z",
     "iopub.status.idle": "2021-04-05T01:55:41.174230Z",
     "shell.execute_reply": "2021-04-05T01:55:41.173593Z"
    },
    "papermill": {
     "duration": 0.09508,
     "end_time": "2021-04-05T01:55:41.174364",
     "exception": false,
     "start_time": "2021-04-05T01:55:41.079284",
     "status": "completed"
    },
    "tags": []
   },
   "outputs": [
    {
     "name": "stdout",
     "output_type": "stream",
     "text": [
      "You are times more sexier than me\n",
      "If you taught yes then you are times more delusional than me\n"
     ]
    }
   ],
   "source": [
    "# Remove numbers from text\n",
    "def rm_number_from_text(text):\n",
    "    text = re.sub('[0-9]+', '', text)\n",
    "    return ' '.join(text.split())  # to rm `extra` white space\n",
    "\n",
    "print(rm_number_from_text('You are 100times more sexier than me'))\n",
    "print(rm_number_from_text('If you taught yes then you are 10 times more delusional than me'))"
   ]
  },
  {
   "cell_type": "code",
   "execution_count": null,
   "id": "stylish-system",
   "metadata": {
    "execution": {
     "iopub.execute_input": "2021-04-05T01:55:41.551188Z",
     "iopub.status.busy": "2021-04-05T01:55:41.549399Z",
     "iopub.status.idle": "2021-04-05T01:55:41.565224Z",
     "shell.execute_reply": "2021-04-05T01:55:41.564114Z"
    },
    "papermill": {
     "duration": 0.115638,
     "end_time": "2021-04-05T01:55:41.565387",
     "exception": false,
     "start_time": "2021-04-05T01:55:41.449749",
     "status": "completed"
    },
    "tags": []
   },
   "outputs": [
    {
     "data": {
      "text/plain": [
       "'mrs robinson youre trying seduce arent'"
      ]
     },
     "execution_count": 15,
     "metadata": {},
     "output_type": "execute_result"
    }
   ],
   "source": [
    "# Cleaning text\n",
    "def clean_text(text):\n",
    "    text = text.lower()\n",
    "    text = rm_punc_from_text(text)\n",
    "    text = rm_number_from_text(text)\n",
    "    text = rm_stopwords_from_text(text)\n",
    "\n",
    "    # there are hyphen(–) in many titles, so replacing it with empty str\n",
    "    # this hyphen(–) is different from normal hyphen(-)\n",
    "    text = re.sub('–', '', text)\n",
    "    text = ' '.join(text.split())  # removing `extra` white spaces\n",
    "\n",
    "    # Removing unnecessary characters from text\n",
    "    text = re.sub(\"(\\\\t)\", ' ', str(text)).lower()\n",
    "    text = re.sub(\"(\\\\r)\", ' ', str(text)).lower()\n",
    "    text = re.sub(\"(\\\\n)\", ' ', str(text)).lower()\n",
    "\n",
    "    # remove accented chars ('Sómě Áccěntěd těxt' => 'Some Accented text')\n",
    "    text = unicodedata.normalize('NFKD', text).encode('ascii', 'ignore').decode(\n",
    "        'utf-8', 'ignore'\n",
    "    )\n",
    "\n",
    "    text = re.sub(\"(__+)\", ' ', str(text)).lower()\n",
    "    text = re.sub(\"(--+)\", ' ', str(text)).lower()\n",
    "    text = re.sub(\"(~~+)\", ' ', str(text)).lower()\n",
    "    text = re.sub(\"(\\+\\++)\", ' ', str(text)).lower()\n",
    "    text = re.sub(\"(\\.\\.+)\", ' ', str(text)).lower()\n",
    "\n",
    "    text = re.sub(r\"[<>()|&©ø\\[\\]\\'\\\",;?~*!]\", ' ', str(text)).lower()\n",
    "\n",
    "    text = re.sub(\"(mailto:)\", ' ', str(text)).lower()\n",
    "    text = re.sub(r\"(\\\\x9\\d)\", ' ', str(text)).lower()\n",
    "    text = re.sub(\"([iI][nN][cC]\\d+)\", 'INC_NUM', str(text)).lower()\n",
    "    text = re.sub(\"([cC][mM]\\d+)|([cC][hH][gG]\\d+)\", 'CM_NUM',\n",
    "                  str(text)).lower()\n",
    "\n",
    "    text = re.sub(\"(\\.\\s+)\", ' ', str(text)).lower()\n",
    "    text = re.sub(\"(\\-\\s+)\", ' ', str(text)).lower()\n",
    "    text = re.sub(\"(\\:\\s+)\", ' ', str(text)).lower()\n",
    "    text = re.sub(\"(\\s+.\\s+)\", ' ', str(text)).lower()\n",
    "\n",
    "    try:\n",
    "        url = re.search(r'((https*:\\/*)([^\\/\\s]+))(.[^\\s]+)', str(text))\n",
    "        repl_url = url.group(3)\n",
    "        text = re.sub(r'((https*:\\/*)([^\\/\\s]+))(.[^\\s]+)', repl_url, str(text))\n",
    "    except Exception as e:\n",
    "        pass\n",
    "\n",
    "    text = re.sub(\"(\\s+)\", ' ', str(text)).lower()\n",
    "    text = re.sub(\"(\\s+.\\s+)\", ' ', str(text)).lower()\n",
    "\n",
    "    return text\n",
    "\n",
    "clean_text(\"Mrs. Robinson, you're trying to seduce me, aren't you?\")"
   ]
  },
  {
   "cell_type": "code",
   "execution_count": null,
   "id": "exclusive-heading",
   "metadata": {
    "execution": {
     "iopub.execute_input": "2021-04-05T01:55:41.744938Z",
     "iopub.status.busy": "2021-04-05T01:55:41.744302Z",
     "iopub.status.idle": "2021-04-05T01:57:18.614930Z",
     "shell.execute_reply": "2021-04-05T01:57:18.615462Z"
    },
    "papermill": {
     "duration": 96.964518,
     "end_time": "2021-04-05T01:57:18.615675",
     "exception": false,
     "start_time": "2021-04-05T01:55:41.651157",
     "status": "completed"
    },
    "tags": []
   },
   "outputs": [
    {
     "data": {
      "text/html": [
       "<div>\n",
       "<style scoped>\n",
       "    .dataframe tbody tr th:only-of-type {\n",
       "        vertical-align: middle;\n",
       "    }\n",
       "\n",
       "    .dataframe tbody tr th {\n",
       "        vertical-align: top;\n",
       "    }\n",
       "\n",
       "    .dataframe thead th {\n",
       "        text-align: right;\n",
       "    }\n",
       "</style>\n",
       "<table border=\"1\" class=\"dataframe\">\n",
       "  <thead>\n",
       "    <tr style=\"text-align: right;\">\n",
       "      <th></th>\n",
       "      <th>headlines</th>\n",
       "      <th>text</th>\n",
       "    </tr>\n",
       "  </thead>\n",
       "  <tbody>\n",
       "    <tr>\n",
       "      <th>54141</th>\n",
       "      <td>jpmorgan made bn months record us bank</td>\n",
       "      <td>jpmorgan chase biggest us bank made billion pa...</td>\n",
       "    </tr>\n",
       "    <tr>\n",
       "      <th>10135</th>\n",
       "      <td>google like cult says engineer fired mthemo</td>\n",
       "      <td>former google engineer james damore fired page...</td>\n",
       "    </tr>\n",
       "    <tr>\n",
       "      <th>12851</th>\n",
       "      <td>ban plying atm cash vans pm mha suggests centre</td>\n",
       "      <td>ministry home affairs mha proposed atms replen...</td>\n",
       "    </tr>\n",
       "    <tr>\n",
       "      <th>39281</th>\n",
       "      <td>ongc gives inprinciple nod acquire govts stake...</td>\n",
       "      <td>board staterun oil natural gas corporation ong...</td>\n",
       "    </tr>\n",
       "    <tr>\n",
       "      <th>75117</th>\n",
       "      <td>pakistan allocates aaa1 crore defence</td>\n",
       "      <td>pakistan finance minister miftah ismail friday...</td>\n",
       "    </tr>\n",
       "  </tbody>\n",
       "</table>\n",
       "</div>"
      ],
      "text/plain": [
       "                                               headlines  \\\n",
       "54141             jpmorgan made bn months record us bank   \n",
       "10135        google like cult says engineer fired mthemo   \n",
       "12851    ban plying atm cash vans pm mha suggests centre   \n",
       "39281  ongc gives inprinciple nod acquire govts stake...   \n",
       "75117              pakistan allocates aaa1 crore defence   \n",
       "\n",
       "                                                    text  \n",
       "54141  jpmorgan chase biggest us bank made billion pa...  \n",
       "10135  former google engineer james damore fired page...  \n",
       "12851  ministry home affairs mha proposed atms replen...  \n",
       "39281  board staterun oil natural gas corporation ong...  \n",
       "75117  pakistan finance minister miftah ismail friday...  "
      ]
     },
     "execution_count": 16,
     "metadata": {},
     "output_type": "execute_result"
    }
   ],
   "source": [
    "df.text = df.text.apply(clean_text)\n",
    "df.headlines = df.headlines.apply(clean_text)\n",
    "df.sample(5)"
   ]
  },
  {
   "cell_type": "code",
   "execution_count": null,
   "id": "australian-making",
   "metadata": {
    "execution": {
     "iopub.execute_input": "2021-04-05T01:57:18.793855Z",
     "iopub.status.busy": "2021-04-05T01:57:18.792953Z",
     "iopub.status.idle": "2021-04-05T01:57:20.333522Z",
     "shell.execute_reply": "2021-04-05T01:57:20.334165Z"
    },
    "papermill": {
     "duration": 1.632661,
     "end_time": "2021-04-05T01:57:20.334350",
     "exception": false,
     "start_time": "2021-04-05T01:57:18.701689",
     "status": "completed"
    },
    "tags": []
   },
   "outputs": [],
   "source": [
    "# saving the cleaned data\n",
    "df.to_csv('cleaned_data.csv')"
   ]
  },
  {
   "cell_type": "code",
   "execution_count": null,
   "id": "duplicate-local",
   "metadata": {
    "execution": {
     "iopub.execute_input": "2021-04-05T02:06:10.167196Z",
     "iopub.status.busy": "2021-04-05T02:06:10.166417Z",
     "iopub.status.idle": "2021-04-05T02:06:10.168446Z",
     "shell.execute_reply": "2021-04-05T02:06:10.168905Z"
    },
    "papermill": {
     "duration": 0.745638,
     "end_time": "2021-04-05T02:06:10.169082",
     "exception": false,
     "start_time": "2021-04-05T02:06:09.423444",
     "status": "completed"
    },
    "tags": []
   },
   "outputs": [],
   "source": [
    "models_info = {\n",
    "    'just_lstm': {\n",
    "        'model': build_seq2seq_model_with_just_lstm,\n",
    "        'inference': build_seq2seq_model_with_just_lstm_inference,\n",
    "        'decode_sequence': decode_sequence_seq2seq_model_with_just_lstm\n",
    "    },\n",
    "    'bidirectional_lstm': {\n",
    "        'model': build_seq2seq_model_with_bidirectional_lstm,\n",
    "        'inference': build_seq2seq_model_with_bidirectional_lstm_inference,\n",
    "        'decode_sequence': decode_sequence_seq2seq_model_with_bidirectional_lstm\n",
    "    },\n",
    "    'hybrid_model': {\n",
    "        'model': build_hybrid_seq2seq_model,\n",
    "        'inference': build_hybrid_seq2seq_model_inference,\n",
    "        'decode_sequence': decode_sequence_hybrid_seq2seq_model\n",
    "    }\n",
    "}"
   ]
  },
  {
   "cell_type": "markdown",
   "id": "sticky-showcase",
   "metadata": {
    "papermill": {
     "duration": 0.728296,
     "end_time": "2021-04-05T02:06:11.593003",
     "exception": false,
     "start_time": "2021-04-05T02:06:10.864707",
     "status": "completed"
    },
    "tags": []
   },
   "source": [
    "**Model with just LSTMs**"
   ]
  },
  {
   "cell_type": "code",
   "execution_count": null,
   "id": "linear-heating",
   "metadata": {
    "execution": {
     "iopub.execute_input": "2021-04-05T02:06:12.991906Z",
     "iopub.status.busy": "2021-04-05T02:06:12.990916Z",
     "iopub.status.idle": "2021-04-05T02:06:12.994406Z",
     "shell.execute_reply": "2021-04-05T02:06:12.993894Z"
    },
    "papermill": {
     "duration": 0.703784,
     "end_time": "2021-04-05T02:06:12.994548",
     "exception": false,
     "start_time": "2021-04-05T02:06:12.290764",
     "status": "completed"
    },
    "tags": []
   },
   "outputs": [],
   "source": [
    "model_func = models_info['just_lstm']['model']\n",
    "inference_func = models_info['just_lstm']['inference']\n",
    "decode_sequence_func = models_info['just_lstm']['decode_sequence']"
   ]
  },
  {
   "cell_type": "code",
   "execution_count": null,
   "id": "organic-floating",
   "metadata": {
    "execution": {
     "iopub.execute_input": "2021-04-05T02:06:14.403549Z",
     "iopub.status.busy": "2021-04-05T02:06:14.401070Z",
     "iopub.status.idle": "2021-04-05T02:06:16.976248Z",
     "shell.execute_reply": "2021-04-05T02:06:16.975370Z"
    },
    "papermill": {
     "duration": 3.286801,
     "end_time": "2021-04-05T02:06:16.976395",
     "exception": false,
     "start_time": "2021-04-05T02:06:13.689594",
     "status": "completed"
    },
    "tags": []
   },
   "outputs": [
    {
     "name": "stdout",
     "output_type": "stream",
     "text": [
      "Model: \"model_3\"\n",
      "__________________________________________________________________________________________________\n",
      "Layer (type)                    Output Shape         Param #     Connected to                     \n",
      "==================================================================================================\n",
      "input_6 (InputLayer)            [(None, 42)]         0                                            \n",
      "__________________________________________________________________________________________________\n",
      "embedding_2 (Embedding)         (None, 42, 300)      29932800    input_6[0][0]                    \n",
      "__________________________________________________________________________________________________\n",
      "input_7 (InputLayer)            [(None, None)]       0                                            \n",
      "__________________________________________________________________________________________________\n",
      "lstm_3 (LSTM)                   [(None, 42, 240), (N 519360      embedding_2[0][0]                \n",
      "__________________________________________________________________________________________________\n",
      "embedding_3 (Embedding)         (None, None, 300)    11257200    input_7[0][0]                    \n",
      "__________________________________________________________________________________________________\n",
      "lstm_4 (LSTM)                   [(None, 42, 240), (N 461760      lstm_3[0][0]                     \n",
      "__________________________________________________________________________________________________\n",
      "lstm_5 (LSTM)                   [(None, None, 240),  519360      embedding_3[0][0]                \n",
      "                                                                 lstm_4[0][1]                     \n",
      "                                                                 lstm_4[0][2]                     \n",
      "__________________________________________________________________________________________________\n",
      "time_distributed_1 (TimeDistrib (None, None, 37524)  9043284     lstm_5[0][0]                     \n",
      "==================================================================================================\n",
      "Total params: 51,733,764\n",
      "Trainable params: 21,800,964\n",
      "Non-trainable params: 29,932,800\n",
      "__________________________________________________________________________________________________\n",
      "Model: \"model_3\"\n",
      "__________________________________________________________________________________________________\n",
      "Layer (type)                    Output Shape         Param #     Connected to                     \n",
      "==================================================================================================\n",
      "input_6 (InputLayer)            [(None, 42)]         0                                            \n",
      "__________________________________________________________________________________________________\n",
      "embedding_2 (Embedding)         (None, 42, 300)      29932800    input_6[0][0]                    \n",
      "__________________________________________________________________________________________________\n",
      "input_7 (InputLayer)            [(None, None)]       0                                            \n",
      "__________________________________________________________________________________________________\n",
      "lstm_3 (LSTM)                   [(None, 42, 240), (N 519360      embedding_2[0][0]                \n",
      "__________________________________________________________________________________________________\n",
      "embedding_3 (Embedding)         (None, None, 300)    11257200    input_7[0][0]                    \n",
      "__________________________________________________________________________________________________\n",
      "lstm_4 (LSTM)                   [(None, 42, 240), (N 461760      lstm_3[0][0]                     \n",
      "__________________________________________________________________________________________________\n",
      "lstm_5 (LSTM)                   [(None, None, 240),  519360      embedding_3[0][0]                \n",
      "                                                                 lstm_4[0][1]                     \n",
      "                                                                 lstm_4[0][2]                     \n",
      "__________________________________________________________________________________________________\n",
      "time_distributed_1 (TimeDistrib (None, None, 37524)  9043284     lstm_5[0][0]                     \n",
      "==================================================================================================\n",
      "Total params: 51,733,764\n",
      "Trainable params: 21,800,964\n",
      "Non-trainable params: 29,932,800\n",
      "__________________________________________________________________________________________________\n"
     ]
    }
   ],
   "source": [
    "seq2seq = model_func(\n",
    "    embedding_dim, latent_dim, max_text_len, \n",
    "    x_vocab_size, y_vocab_size,\n",
    "    x_embedding_matrix, y_embedding_matrix\n",
    ")\n",
    "\n",
    "model = seq2seq['model']\n",
    "\n",
    "encoder_input = seq2seq['inputs']['encoder']\n",
    "decoder_input = seq2seq['inputs']['decoder']\n",
    "\n",
    "encoder_output = seq2seq['outputs']['encoder']\n",
    "decoder_output = seq2seq['outputs']['decoder']\n",
    "\n",
    "encoder_final_states = seq2seq['states']['encoder']\n",
    "decoder_final_states = seq2seq['states']['decoder']\n",
    "\n",
    "decoder_embedding_layer = seq2seq['layers']['decoder']['embedding']\n",
    "last_decoder_lstm = seq2seq['layers']['decoder']['last_decoder_lstm']\n",
    "decoder_dense = seq2seq['layers']['decoder']['dense']\n",
    "\n",
    "model.summary()"
   ]
  },
  {
   "cell_type": "code",
   "execution_count": null,
   "id": "polished-qatar",
   "metadata": {
    "execution": {
     "iopub.execute_input": "2021-04-05T02:10:21.595452Z",
     "iopub.status.busy": "2021-04-05T02:10:21.594738Z",
     "iopub.status.idle": "2021-04-05T02:10:21.763715Z",
     "shell.execute_reply": "2021-04-05T02:10:21.763181Z"
    },
    "papermill": {
     "duration": 1.567391,
     "end_time": "2021-04-05T02:10:21.763882",
     "exception": false,
     "start_time": "2021-04-05T02:10:20.196491",
     "status": "completed"
    },
    "tags": []
   },
   "outputs": [
    {
     "data": {
      "text/plain": [
       "<matplotlib.legend.Legend at 0x7f7647f0e610>"
      ]
     },
     "execution_count": 74,
     "metadata": {},
     "output_type": "execute_result"
    },
    {
     "data": {
      "image/png": "[encoded data removed]",
      "text/plain": [
       "<Figure size 432x288 with 1 Axes>"
      ]
     },
     "metadata": {
      "needs_background": "light"
     },
     "output_type": "display_data"
    }
   ],
   "source": [
    "# Accuracy\n",
    "plt.plot(history.history['accuracy'][1:], label='train acc')\n",
    "plt.plot(history.history['val_accuracy'], label='val')\n",
    "plt.xlabel('Epoch')\n",
    "plt.ylabel('Accuracy')\n",
    "plt.legend(loc='lower right')"
   ]
  },
  {
   "cell_type": "code",
   "execution_count": null,
   "id": "cloudy-operations",
   "metadata": {
    "execution": {
     "iopub.execute_input": "2021-04-05T02:10:24.459141Z",
     "iopub.status.busy": "2021-04-05T02:10:24.454447Z",
     "iopub.status.idle": "2021-04-05T02:10:24.598033Z",
     "shell.execute_reply": "2021-04-05T02:10:24.597394Z"
    },
    "papermill": {
     "duration": 1.505637,
     "end_time": "2021-04-05T02:10:24.598181",
     "exception": false,
     "start_time": "2021-04-05T02:10:23.092544",
     "status": "completed"
    },
    "tags": []
   },
   "outputs": [
    {
     "data": {
      "text/plain": [
       "<matplotlib.legend.Legend at 0x7f7646257690>"
      ]
     },
     "execution_count": 75,
     "metadata": {},
     "output_type": "execute_result"
    },
    {
     "data": {
      "image/png": "[encoded data removed]",
      "text/plain": [
       "<Figure size 432x288 with 1 Axes>"
      ]
     },
     "metadata": {
      "needs_background": "light"
     },
     "output_type": "display_data"
    }
   ],
   "source": [
    "# Loss\n",
    "plt.plot(history.history['loss'][1:], label='train loss')\n",
    "plt.plot(history.history['val_loss'], label='val')\n",
    "plt.xlabel('Epoch')\n",
    "plt.ylabel('Loss')\n",
    "plt.legend(loc='lower right')"
   ]
  },
  {
   "cell_type": "code",
   "execution_count": null,
   "id": "bacterial-timing",
   "metadata": {
    "execution": {
     "iopub.execute_input": "2021-04-05T02:10:30.136016Z",
     "iopub.status.busy": "2021-04-05T02:10:30.134801Z",
     "iopub.status.idle": "2021-04-05T02:10:30.140805Z",
     "shell.execute_reply": "2021-04-05T02:10:30.139952Z"
    },
    "papermill": {
     "duration": 1.347238,
     "end_time": "2021-04-05T02:10:30.140998",
     "exception": false,
     "start_time": "2021-04-05T02:10:28.793760",
     "status": "completed"
    },
    "tags": []
   },
   "outputs": [
    {
     "name": "stdout",
     "output_type": "stream",
     "text": [
      "Model: \"model_4\"\n",
      "_________________________________________________________________\n",
      "Layer (type)                 Output Shape              Param #   \n",
      "=================================================================\n",
      "input_6 (InputLayer)         [(None, 42)]              0         \n",
      "_________________________________________________________________\n",
      "embedding_2 (Embedding)      (None, 42, 300)           29932800  \n",
      "_________________________________________________________________\n",
      "lstm_3 (LSTM)                [(None, 42, 240), (None,  519360    \n",
      "_________________________________________________________________\n",
      "lstm_4 (LSTM)                [(None, 42, 240), (None,  461760    \n",
      "=================================================================\n",
      "Total params: 30,913,920\n",
      "Trainable params: 981,120\n",
      "Non-trainable params: 29,932,800\n",
      "_________________________________________________________________\n"
     ]
    }
   ],
   "source": [
    "encoder_model.summary()"
   ]
  },
  {
   "cell_type": "code",
   "execution_count": null,
   "id": "practical-message",
   "metadata": {
    "execution": {
     "iopub.execute_input": "2021-04-05T02:10:32.860309Z",
     "iopub.status.busy": "2021-04-05T02:10:32.859365Z",
     "iopub.status.idle": "2021-04-05T02:10:32.863649Z",
     "shell.execute_reply": "2021-04-05T02:10:32.864494Z"
    },
    "papermill": {
     "duration": 1.391321,
     "end_time": "2021-04-05T02:10:32.864725",
     "exception": false,
     "start_time": "2021-04-05T02:10:31.473404",
     "status": "completed"
    },
    "tags": []
   },
   "outputs": [
    {
     "name": "stdout",
     "output_type": "stream",
     "text": [
      "Model: \"model_5\"\n",
      "__________________________________________________________________________________________________\n",
      "Layer (type)                    Output Shape         Param #     Connected to                     \n",
      "==================================================================================================\n",
      "input_7 (InputLayer)            [(None, None)]       0                                            \n",
      "__________________________________________________________________________________________________\n",
      "embedding_3 (Embedding)         (None, None, 300)    11257200    input_7[0][0]                    \n",
      "__________________________________________________________________________________________________\n",
      "input_8 (InputLayer)            [(None, 240)]        0                                            \n",
      "__________________________________________________________________________________________________\n",
      "input_9 (InputLayer)            [(None, 240)]        0                                            \n",
      "__________________________________________________________________________________________________\n",
      "lstm_5 (LSTM)                   [(None, None, 240),  519360      embedding_3[1][0]                \n",
      "                                                                 input_8[0][0]                    \n",
      "                                                                 input_9[0][0]                    \n",
      "__________________________________________________________________________________________________\n",
      "input_10 (InputLayer)           [(None, 42, 240)]    0                                            \n",
      "__________________________________________________________________________________________________\n",
      "time_distributed_1 (TimeDistrib (None, None, 37524)  9043284     lstm_5[1][0]                     \n",
      "==================================================================================================\n",
      "Total params: 20,819,844\n",
      "Trainable params: 20,819,844\n",
      "Non-trainable params: 0\n",
      "__________________________________________________________________________________________________\n"
     ]
    }
   ],
   "source": [
    "decoder_model.summary()"
   ]
  },
  {
   "cell_type": "markdown",
   "id": "interested-highlight",
   "metadata": {
    "papermill": {
     "duration": 1.360908,
     "end_time": "2021-04-05T02:10:46.637106",
     "exception": false,
     "start_time": "2021-04-05T02:10:45.276198",
     "status": "completed"
    },
    "tags": []
   },
   "source": [
    "**Model with Bidirectional LSTMs**"
   ]
  },
  {
   "cell_type": "code",
   "execution_count": null,
   "id": "prepared-floor",
   "metadata": {
    "execution": {
     "iopub.execute_input": "2021-04-05T02:10:49.311819Z",
     "iopub.status.busy": "2021-04-05T02:10:49.311202Z",
     "iopub.status.idle": "2021-04-05T02:10:49.314020Z",
     "shell.execute_reply": "2021-04-05T02:10:49.313499Z"
    },
    "papermill": {
     "duration": 1.345462,
     "end_time": "2021-04-05T02:10:49.314153",
     "exception": false,
     "start_time": "2021-04-05T02:10:47.968691",
     "status": "completed"
    },
    "tags": []
   },
   "outputs": [],
   "source": [
    "model_func = models_info['bidirectional_lstm']['model']\n",
    "inference_func = models_info['bidirectional_lstm']['inference']\n",
    "decode_sequence_func = models_info['bidirectional_lstm']['decode_sequence']"
   ]
  },
  {
   "cell_type": "code",
   "execution_count": null,
   "id": "complimentary-poland",
   "metadata": {
    "execution": {
     "iopub.execute_input": "2021-04-05T02:10:51.974677Z",
     "iopub.status.busy": "2021-04-05T02:10:51.973171Z",
     "iopub.status.idle": "2021-04-05T02:10:55.856987Z",
     "shell.execute_reply": "2021-04-05T02:10:55.857742Z"
    },
    "papermill": {
     "duration": 5.218529,
     "end_time": "2021-04-05T02:10:55.858007",
     "exception": false,
     "start_time": "2021-04-05T02:10:50.639478",
     "status": "completed"
    },
    "tags": []
   },
   "outputs": [
    {
     "name": "stdout",
     "output_type": "stream",
     "text": [
      "Model: \"seq2seq_model_with_bidirectional_lstm\"\n",
      "__________________________________________________________________________________________________\n",
      "Layer (type)                    Output Shape         Param #     Connected to                     \n",
      "==================================================================================================\n",
      "input_11 (InputLayer)           [(None, 42)]         0                                            \n",
      "__________________________________________________________________________________________________\n",
      "encoder_embedding (Embedding)   (None, 42, 300)      29932800    input_11[0][0]                   \n",
      "__________________________________________________________________________________________________\n",
      "encoder_bidirectional_lstm_1 (B [(None, 42, 480), (N 1038720     encoder_embedding[0][0]          \n",
      "__________________________________________________________________________________________________\n",
      "input_12 (InputLayer)           [(None, None)]       0                                            \n",
      "__________________________________________________________________________________________________\n",
      "encoder_bidirectional_lstm_2 (B [(None, 42, 480), (N 1384320     encoder_bidirectional_lstm_1[0][0\n",
      "__________________________________________________________________________________________________\n",
      "decoder_embedding (Embedding)   (None, None, 300)    11257200    input_12[0][0]                   \n",
      "__________________________________________________________________________________________________\n",
      "encoder_bidirectional_lstm_3 (B [(None, 42, 480), (N 1384320     encoder_bidirectional_lstm_2[0][0\n",
      "__________________________________________________________________________________________________\n",
      "decoder_bidirectional_lstm_1 (B [(None, None, 480),  1038720     decoder_embedding[0][0]          \n",
      "                                                                 encoder_bidirectional_lstm_3[0][1\n",
      "                                                                 encoder_bidirectional_lstm_3[0][2\n",
      "                                                                 encoder_bidirectional_lstm_3[0][3\n",
      "                                                                 encoder_bidirectional_lstm_3[0][4\n",
      "__________________________________________________________________________________________________\n",
      "time_distributed_2 (TimeDistrib (None, None, 37524)  18049044    decoder_bidirectional_lstm_1[0][0\n",
      "==================================================================================================\n",
      "Total params: 64,085,124\n",
      "Trainable params: 22,895,124\n",
      "Non-trainable params: 41,190,000\n",
      "__________________________________________________________________________________________________\n",
      "Model: \"seq2seq_model_with_bidirectional_lstm\"\n",
      "__________________________________________________________________________________________________\n",
      "Layer (type)                    Output Shape         Param #     Connected to                     \n",
      "==================================================================================================\n",
      "input_11 (InputLayer)           [(None, 42)]         0                                            \n",
      "__________________________________________________________________________________________________\n",
      "encoder_embedding (Embedding)   (None, 42, 300)      29932800    input_11[0][0]                   \n",
      "__________________________________________________________________________________________________\n",
      "encoder_bidirectional_lstm_1 (B [(None, 42, 480), (N 1038720     encoder_embedding[0][0]          \n",
      "__________________________________________________________________________________________________\n",
      "input_12 (InputLayer)           [(None, None)]       0                                            \n",
      "__________________________________________________________________________________________________\n",
      "encoder_bidirectional_lstm_2 (B [(None, 42, 480), (N 1384320     encoder_bidirectional_lstm_1[0][0\n",
      "__________________________________________________________________________________________________\n",
      "decoder_embedding (Embedding)   (None, None, 300)    11257200    input_12[0][0]                   \n",
      "__________________________________________________________________________________________________\n",
      "encoder_bidirectional_lstm_3 (B [(None, 42, 480), (N 1384320     encoder_bidirectional_lstm_2[0][0\n",
      "__________________________________________________________________________________________________\n",
      "decoder_bidirectional_lstm_1 (B [(None, None, 480),  1038720     decoder_embedding[0][0]          \n",
      "                                                                 encoder_bidirectional_lstm_3[0][1\n",
      "                                                                 encoder_bidirectional_lstm_3[0][2\n",
      "                                                                 encoder_bidirectional_lstm_3[0][3\n",
      "                                                                 encoder_bidirectional_lstm_3[0][4\n",
      "__________________________________________________________________________________________________\n",
      "time_distributed_2 (TimeDistrib (None, None, 37524)  18049044    decoder_bidirectional_lstm_1[0][0\n",
      "==================================================================================================\n",
      "Total params: 64,085,124\n",
      "Trainable params: 22,895,124\n",
      "Non-trainable params: 41,190,000\n",
      "__________________________________________________________________________________________________\n"
     ]
    }
   ],
   "source": [
    "seq2seq = model_func(\n",
    "    embedding_dim, latent_dim, max_text_len, \n",
    "    x_vocab_size, y_vocab_size,\n",
    "    x_embedding_matrix, y_embedding_matrix\n",
    ")\n",
    "\n",
    "model = seq2seq['model']\n",
    "\n",
    "encoder_input = seq2seq['inputs']['encoder']\n",
    "decoder_input = seq2seq['inputs']['decoder']\n",
    "\n",
    "encoder_output = seq2seq['outputs']['encoder']\n",
    "decoder_output = seq2seq['outputs']['decoder']\n",
    "\n",
    "encoder_final_states = seq2seq['states']['encoder']\n",
    "decoder_final_states = seq2seq['states']['decoder']\n",
    "\n",
    "decoder_embedding_layer = seq2seq['layers']['decoder']['embedding']\n",
    "last_decoder_lstm = seq2seq['layers']['decoder']['last_decoder_lstm']\n",
    "decoder_dense = seq2seq['layers']['decoder']['dense']\n",
    "\n",
    "model.summary()"
   ]
  },
  {
   "cell_type": "code",
   "execution_count": null,
   "id": "technological-sally",
   "metadata": {
    "execution": {
     "iopub.execute_input": "2021-04-05T02:18:08.421388Z",
     "iopub.status.busy": "2021-04-05T02:18:08.420606Z",
     "iopub.status.idle": "2021-04-05T02:18:08.581100Z",
     "shell.execute_reply": "2021-04-05T02:18:08.580536Z"
    },
    "papermill": {
     "duration": 2.913094,
     "end_time": "2021-04-05T02:18:08.581309",
     "exception": false,
     "start_time": "2021-04-05T02:18:05.668215",
     "status": "completed"
    },
    "tags": []
   },
   "outputs": [
    {
     "data": {
      "text/plain": [
       "<matplotlib.legend.Legend at 0x7f764510aed0>"
      ]
     },
     "execution_count": 83,
     "metadata": {},
     "output_type": "execute_result"
    },
    {
     "data": {
      "image/png": "[encoded data removed]",
      "text/plain": [
       "<Figure size 432x288 with 1 Axes>"
      ]
     },
     "metadata": {
      "needs_background": "light"
     },
     "output_type": "display_data"
    }
   ],
   "source": [
    "# Accuracy\n",
    "plt.plot(history.history['accuracy'][1:], label='train acc')\n",
    "plt.plot(history.history['val_accuracy'], label='val')\n",
    "plt.xlabel('Epoch')\n",
    "plt.ylabel('Accuracy')\n",
    "plt.legend(loc='lower right')"
   ]
  },
  {
   "cell_type": "code",
   "execution_count": null,
   "id": "painful-cylinder",
   "metadata": {
    "execution": {
     "iopub.execute_input": "2021-04-05T02:18:14.069291Z",
     "iopub.status.busy": "2021-04-05T02:18:14.067174Z",
     "iopub.status.idle": "2021-04-05T02:18:14.195152Z",
     "shell.execute_reply": "2021-04-05T02:18:14.194413Z"
    },
    "papermill": {
     "duration": 2.849139,
     "end_time": "2021-04-05T02:18:14.195316",
     "exception": false,
     "start_time": "2021-04-05T02:18:11.346177",
     "status": "completed"
    },
    "tags": []
   },
   "outputs": [
    {
     "data": {
      "text/plain": [
       "<matplotlib.legend.Legend at 0x7f76457f3c10>"
      ]
     },
     "execution_count": 84,
     "metadata": {},
     "output_type": "execute_result"
    },
    {
     "data": {
      "image/png": "[encoded data removed]",
      "text/plain": [
       "<Figure size 432x288 with 1 Axes>"
      ]
     },
     "metadata": {
      "needs_background": "light"
     },
     "output_type": "display_data"
    }
   ],
   "source": [
    "# Loss\n",
    "plt.plot(history.history['loss'][1:], label='train loss')\n",
    "plt.plot(history.history['val_loss'], label='val')\n",
    "plt.xlabel('Epoch')\n",
    "plt.ylabel('Loss')\n",
    "plt.legend(loc='lower right')"
   ]
  },
  {
   "cell_type": "code",
   "execution_count": null,
   "id": "future-colony",
   "metadata": {
    "execution": {
     "iopub.execute_input": "2021-04-05T02:18:25.448723Z",
     "iopub.status.busy": "2021-04-05T02:18:25.447703Z",
     "iopub.status.idle": "2021-04-05T02:18:25.452406Z",
     "shell.execute_reply": "2021-04-05T02:18:25.451453Z"
    },
    "papermill": {
     "duration": 2.750763,
     "end_time": "2021-04-05T02:18:25.452594",
     "exception": false,
     "start_time": "2021-04-05T02:18:22.701831",
     "status": "completed"
    },
    "tags": []
   },
   "outputs": [
    {
     "name": "stdout",
     "output_type": "stream",
     "text": [
      "Model: \"model_6\"\n",
      "_________________________________________________________________\n",
      "Layer (type)                 Output Shape              Param #   \n",
      "=================================================================\n",
      "input_11 (InputLayer)        [(None, 42)]              0         \n",
      "_________________________________________________________________\n",
      "encoder_embedding (Embedding (None, 42, 300)           29932800  \n",
      "_________________________________________________________________\n",
      "encoder_bidirectional_lstm_1 [(None, 42, 480), (None,  1038720   \n",
      "_________________________________________________________________\n",
      "encoder_bidirectional_lstm_2 [(None, 42, 480), (None,  1384320   \n",
      "_________________________________________________________________\n",
      "encoder_bidirectional_lstm_3 [(None, 42, 480), (None,  1384320   \n",
      "=================================================================\n",
      "Total params: 33,740,160\n",
      "Trainable params: 3,807,360\n",
      "Non-trainable params: 29,932,800\n",
      "_________________________________________________________________\n"
     ]
    }
   ],
   "source": [
    "encoder_model.summary()"
   ]
  },
  {
   "cell_type": "code",
   "execution_count": null,
   "id": "completed-raleigh",
   "metadata": {
    "execution": {
     "iopub.execute_input": "2021-04-05T02:18:30.880706Z",
     "iopub.status.busy": "2021-04-05T02:18:30.880054Z",
     "iopub.status.idle": "2021-04-05T02:18:30.888469Z",
     "shell.execute_reply": "2021-04-05T02:18:30.889376Z"
    },
    "papermill": {
     "duration": 2.732983,
     "end_time": "2021-04-05T02:18:30.889599",
     "exception": false,
     "start_time": "2021-04-05T02:18:28.156616",
     "status": "completed"
    },
    "tags": []
   },
   "outputs": [
    {
     "name": "stdout",
     "output_type": "stream",
     "text": [
      "Model: \"model_7\"\n",
      "__________________________________________________________________________________________________\n",
      "Layer (type)                    Output Shape         Param #     Connected to                     \n",
      "==================================================================================================\n",
      "input_12 (InputLayer)           [(None, None)]       0                                            \n",
      "__________________________________________________________________________________________________\n",
      "decoder_embedding (Embedding)   (None, None, 300)    11257200    input_12[0][0]                   \n",
      "__________________________________________________________________________________________________\n",
      "input_13 (InputLayer)           [(None, 240)]        0                                            \n",
      "__________________________________________________________________________________________________\n",
      "input_14 (InputLayer)           [(None, 240)]        0                                            \n",
      "__________________________________________________________________________________________________\n",
      "input_15 (InputLayer)           [(None, 240)]        0                                            \n",
      "__________________________________________________________________________________________________\n",
      "input_16 (InputLayer)           [(None, 240)]        0                                            \n",
      "__________________________________________________________________________________________________\n",
      "decoder_bidirectional_lstm_1 (B [(None, None, 480),  1038720     decoder_embedding[1][0]          \n",
      "                                                                 input_13[0][0]                   \n",
      "                                                                 input_14[0][0]                   \n",
      "                                                                 input_15[0][0]                   \n",
      "                                                                 input_16[0][0]                   \n",
      "__________________________________________________________________________________________________\n",
      "input_17 (InputLayer)           [(None, 42, 480)]    0                                            \n",
      "__________________________________________________________________________________________________\n",
      "time_distributed_2 (TimeDistrib (None, None, 37524)  18049044    decoder_bidirectional_lstm_1[1][0\n",
      "==================================================================================================\n",
      "Total params: 30,344,964\n",
      "Trainable params: 19,087,764\n",
      "Non-trainable params: 11,257,200\n",
      "__________________________________________________________________________________________________\n"
     ]
    }
   ],
   "source": [
    "decoder_model.summary()"
   ]
  },
  {
   "cell_type": "markdown",
   "id": "after-sequence",
   "metadata": {
    "papermill": {
     "duration": 2.692698,
     "end_time": "2021-04-05T02:18:58.131175",
     "exception": false,
     "start_time": "2021-04-05T02:18:55.438477",
     "status": "completed"
    },
    "tags": []
   },
   "source": [
    "### Model with hybrid architecture"
   ]
  },
  {
   "cell_type": "code",
   "execution_count": null,
   "id": "significant-delhi",
   "metadata": {
    "execution": {
     "iopub.execute_input": "2021-04-05T02:19:03.631593Z",
     "iopub.status.busy": "2021-04-05T02:19:03.630815Z",
     "iopub.status.idle": "2021-04-05T02:19:03.633413Z",
     "shell.execute_reply": "2021-04-05T02:19:03.632752Z"
    },
    "papermill": {
     "duration": 2.795436,
     "end_time": "2021-04-05T02:19:03.633562",
     "exception": false,
     "start_time": "2021-04-05T02:19:00.838126",
     "status": "completed"
    },
    "tags": []
   },
   "outputs": [],
   "source": [
    "model_func = models_info['hybrid_model']['model']\n",
    "inference_func = models_info['hybrid_model']['inference']\n",
    "decode_sequence_func = models_info['hybrid_model']['decode_sequence']"
   ]
  },
  {
   "cell_type": "code",
   "execution_count": null,
   "id": "usual-hundred",
   "metadata": {
    "execution": {
     "iopub.execute_input": "2021-04-05T02:19:09.106955Z",
     "iopub.status.busy": "2021-04-05T02:19:09.105284Z",
     "iopub.status.idle": "2021-04-05T02:19:13.016853Z",
     "shell.execute_reply": "2021-04-05T02:19:13.015610Z"
    },
    "papermill": {
     "duration": 6.6723,
     "end_time": "2021-04-05T02:19:13.017072",
     "exception": false,
     "start_time": "2021-04-05T02:19:06.344772",
     "status": "completed"
    },
    "tags": []
   },
   "outputs": [
    {
     "name": "stdout",
     "output_type": "stream",
     "text": [
      "Model: \"seq2seq_model_with_bidirectional_lstm\"\n",
      "__________________________________________________________________________________________________\n",
      "Layer (type)                    Output Shape         Param #     Connected to                     \n",
      "==================================================================================================\n",
      "input_18 (InputLayer)           [(None, 42)]         0                                            \n",
      "__________________________________________________________________________________________________\n",
      "encoder_embedding (Embedding)   (None, 42, 300)      29932800    input_18[0][0]                   \n",
      "__________________________________________________________________________________________________\n",
      "encoder_bidirectional_lstm_1 (B [(None, 42, 480), (N 1038720     encoder_embedding[0][0]          \n",
      "__________________________________________________________________________________________________\n",
      "input_19 (InputLayer)           [(None, None)]       0                                            \n",
      "__________________________________________________________________________________________________\n",
      "encoder_bidirectional_lstm_2 (B [(None, 42, 480), (N 1384320     encoder_bidirectional_lstm_1[0][0\n",
      "__________________________________________________________________________________________________\n",
      "decoder_embedding (Embedding)   (None, None, 300)    11257200    input_19[0][0]                   \n",
      "__________________________________________________________________________________________________\n",
      "encoder_bidirectional_lstm_3 (B [(None, 42, 480), (N 1384320     encoder_bidirectional_lstm_2[0][0\n",
      "__________________________________________________________________________________________________\n",
      "decoder_lstm_1 (LSTM)           [(None, None, 240),  519360      decoder_embedding[0][0]          \n",
      "                                                                 encoder_bidirectional_lstm_3[0][1\n",
      "                                                                 encoder_bidirectional_lstm_3[0][2\n",
      "__________________________________________________________________________________________________\n",
      "time_distributed_3 (TimeDistrib (None, None, 37524)  9043284     decoder_lstm_1[0][0]             \n",
      "==================================================================================================\n",
      "Total params: 54,560,004\n",
      "Trainable params: 13,370,004\n",
      "Non-trainable params: 41,190,000\n",
      "__________________________________________________________________________________________________\n",
      "Model: \"seq2seq_model_with_bidirectional_lstm\"\n",
      "__________________________________________________________________________________________________\n",
      "Layer (type)                    Output Shape         Param #     Connected to                     \n",
      "==================================================================================================\n",
      "input_18 (InputLayer)           [(None, 42)]         0                                            \n",
      "__________________________________________________________________________________________________\n",
      "encoder_embedding (Embedding)   (None, 42, 300)      29932800    input_18[0][0]                   \n",
      "__________________________________________________________________________________________________\n",
      "encoder_bidirectional_lstm_1 (B [(None, 42, 480), (N 1038720     encoder_embedding[0][0]          \n",
      "__________________________________________________________________________________________________\n",
      "input_19 (InputLayer)           [(None, None)]       0                                            \n",
      "__________________________________________________________________________________________________\n",
      "encoder_bidirectional_lstm_2 (B [(None, 42, 480), (N 1384320     encoder_bidirectional_lstm_1[0][0\n",
      "__________________________________________________________________________________________________\n",
      "decoder_embedding (Embedding)   (None, None, 300)    11257200    input_19[0][0]                   \n",
      "__________________________________________________________________________________________________\n",
      "encoder_bidirectional_lstm_3 (B [(None, 42, 480), (N 1384320     encoder_bidirectional_lstm_2[0][0\n",
      "__________________________________________________________________________________________________\n",
      "decoder_lstm_1 (LSTM)           [(None, None, 240),  519360      decoder_embedding[0][0]          \n",
      "                                                                 encoder_bidirectional_lstm_3[0][1\n",
      "                                                                 encoder_bidirectional_lstm_3[0][2\n",
      "__________________________________________________________________________________________________\n",
      "time_distributed_3 (TimeDistrib (None, None, 37524)  9043284     decoder_lstm_1[0][0]             \n",
      "==================================================================================================\n",
      "Total params: 54,560,004\n",
      "Trainable params: 13,370,004\n",
      "Non-trainable params: 41,190,000\n",
      "__________________________________________________________________________________________________\n"
     ]
    }
   ],
   "source": [
    "seq2seq = model_func(\n",
    "    embedding_dim, latent_dim, max_text_len, \n",
    "    x_vocab_size, y_vocab_size,\n",
    "    x_embedding_matrix, y_embedding_matrix\n",
    ")\n",
    "\n",
    "model = seq2seq['model']\n",
    "\n",
    "encoder_input = seq2seq['inputs']['encoder']\n",
    "decoder_input = seq2seq['inputs']['decoder']\n",
    "\n",
    "encoder_output = seq2seq['outputs']['encoder']\n",
    "decoder_output = seq2seq['outputs']['decoder']\n",
    "\n",
    "encoder_final_states = seq2seq['states']['encoder']\n",
    "decoder_final_states = seq2seq['states']['decoder']\n",
    "\n",
    "decoder_embedding_layer = seq2seq['layers']['decoder']['embedding']\n",
    "last_decoder_lstm = seq2seq['layers']['decoder']['last_decoder_lstm']\n",
    "decoder_dense = seq2seq['layers']['decoder']['dense']\n",
    "\n",
    "model.summary()"
   ]
  },
  {
   "cell_type": "code",
   "execution_count": null,
   "id": "israeli-ideal",
   "metadata": {
    "execution": {
     "iopub.execute_input": "2021-04-05T02:23:49.203525Z",
     "iopub.status.busy": "2021-04-05T02:23:49.202312Z",
     "iopub.status.idle": "2021-04-05T02:23:49.367700Z",
     "shell.execute_reply": "2021-04-05T02:23:49.368206Z"
    },
    "papermill": {
     "duration": 4.533691,
     "end_time": "2021-04-05T02:23:49.368386",
     "exception": false,
     "start_time": "2021-04-05T02:23:44.834695",
     "status": "completed"
    },
    "tags": []
   },
   "outputs": [
    {
     "data": {
      "text/plain": [
       "<matplotlib.legend.Legend at 0x7f764427d7d0>"
      ]
     },
     "execution_count": 92,
     "metadata": {},
     "output_type": "execute_result"
    },
    {
     "data": {
      "image/png": "[encoded data removed]",
      "text/plain": [
       "<Figure size 432x288 with 1 Axes>"
      ]
     },
     "metadata": {
      "needs_background": "light"
     },
     "output_type": "display_data"
    }
   ],
   "source": [
    "# Accuracy\n",
    "plt.plot(history.history['accuracy'][1:], label='train acc')\n",
    "plt.plot(history.history['val_accuracy'], label='val')\n",
    "plt.xlabel('Epoch')\n",
    "plt.ylabel('Accuracy')\n",
    "plt.legend(loc='lower right')"
   ]
  },
  {
   "cell_type": "code",
   "execution_count": null,
   "id": "published-voice",
   "metadata": {
    "execution": {
     "iopub.execute_input": "2021-04-05T02:23:56.710762Z",
     "iopub.status.busy": "2021-04-05T02:23:56.710099Z",
     "iopub.status.idle": "2021-04-05T02:23:56.847502Z",
     "shell.execute_reply": "2021-04-05T02:23:56.846833Z"
    },
    "papermill": {
     "duration": 3.802967,
     "end_time": "2021-04-05T02:23:56.847644",
     "exception": false,
     "start_time": "2021-04-05T02:23:53.044677",
     "status": "completed"
    },
    "tags": []
   },
   "outputs": [
    {
     "data": {
      "text/plain": [
       "<matplotlib.legend.Legend at 0x7f7642ad9e90>"
      ]
     },
     "execution_count": 93,
     "metadata": {},
     "output_type": "execute_result"
    },
    {
     "data": {
      "image/png": "[encoded data removed]",
      "text/plain": [
       "<Figure size 432x288 with 1 Axes>"
      ]
     },
     "metadata": {
      "needs_background": "light"
     },
     "output_type": "display_data"
    }
   ],
   "source": [
    "# Loss\n",
    "plt.plot(history.history['loss'][1:], label='train loss')\n",
    "plt.plot(history.history['val_loss'], label='val')\n",
    "plt.xlabel('Epoch')\n",
    "plt.ylabel('Loss')\n",
    "plt.legend(loc='lower right')"
   ]
  },
  {
   "cell_type": "code",
   "execution_count": null,
   "id": "accessible-pointer",
   "metadata": {
    "execution": {
     "iopub.execute_input": "2021-04-05T02:24:11.789124Z",
     "iopub.status.busy": "2021-04-05T02:24:11.788283Z",
     "iopub.status.idle": "2021-04-05T02:24:11.792892Z",
     "shell.execute_reply": "2021-04-05T02:24:11.792253Z"
    },
    "papermill": {
     "duration": 3.732966,
     "end_time": "2021-04-05T02:24:11.793031",
     "exception": false,
     "start_time": "2021-04-05T02:24:08.060065",
     "status": "completed"
    },
    "tags": []
   },
   "outputs": [
    {
     "name": "stdout",
     "output_type": "stream",
     "text": [
      "Model: \"model_8\"\n",
      "_________________________________________________________________\n",
      "Layer (type)                 Output Shape              Param #   \n",
      "=================================================================\n",
      "input_18 (InputLayer)        [(None, 42)]              0         \n",
      "_________________________________________________________________\n",
      "encoder_embedding (Embedding (None, 42, 300)           29932800  \n",
      "_________________________________________________________________\n",
      "encoder_bidirectional_lstm_1 [(None, 42, 480), (None,  1038720   \n",
      "_________________________________________________________________\n",
      "encoder_bidirectional_lstm_2 [(None, 42, 480), (None,  1384320   \n",
      "_________________________________________________________________\n",
      "encoder_bidirectional_lstm_3 [(None, 42, 480), (None,  1384320   \n",
      "=================================================================\n",
      "Total params: 33,740,160\n",
      "Trainable params: 3,807,360\n",
      "Non-trainable params: 29,932,800\n",
      "_________________________________________________________________\n"
     ]
    }
   ],
   "source": [
    "encoder_model.summary()"
   ]
  },
  {
   "cell_type": "code",
   "execution_count": null,
   "id": "broadband-class",
   "metadata": {
    "execution": {
     "iopub.execute_input": "2021-04-05T02:24:19.114553Z",
     "iopub.status.busy": "2021-04-05T02:24:19.113787Z",
     "iopub.status.idle": "2021-04-05T02:24:19.121330Z",
     "shell.execute_reply": "2021-04-05T02:24:19.120301Z"
    },
    "papermill": {
     "duration": 3.690189,
     "end_time": "2021-04-05T02:24:19.121479",
     "exception": false,
     "start_time": "2021-04-05T02:24:15.431290",
     "status": "completed"
    },
    "tags": []
   },
   "outputs": [
    {
     "name": "stdout",
     "output_type": "stream",
     "text": [
      "Model: \"model_9\"\n",
      "__________________________________________________________________________________________________\n",
      "Layer (type)                    Output Shape         Param #     Connected to                     \n",
      "==================================================================================================\n",
      "input_19 (InputLayer)           [(None, None)]       0                                            \n",
      "__________________________________________________________________________________________________\n",
      "decoder_embedding (Embedding)   (None, None, 300)    11257200    input_19[0][0]                   \n",
      "__________________________________________________________________________________________________\n",
      "input_20 (InputLayer)           [(None, 240)]        0                                            \n",
      "__________________________________________________________________________________________________\n",
      "input_21 (InputLayer)           [(None, 240)]        0                                            \n",
      "__________________________________________________________________________________________________\n",
      "decoder_lstm_1 (LSTM)           [(None, None, 240),  519360      decoder_embedding[1][0]          \n",
      "                                                                 input_20[0][0]                   \n",
      "                                                                 input_21[0][0]                   \n",
      "__________________________________________________________________________________________________\n",
      "input_22 (InputLayer)           [(None, 42, 480)]    0                                            \n",
      "__________________________________________________________________________________________________\n",
      "time_distributed_3 (TimeDistrib (None, None, 37524)  9043284     decoder_lstm_1[1][0]             \n",
      "==================================================================================================\n",
      "Total params: 20,819,844\n",
      "Trainable params: 9,562,644\n",
      "Non-trainable params: 11,257,200\n",
      "__________________________________________________________________________________________________\n"
     ]
    }
   ],
   "source": [
    "decoder_model.summary()"
   ]
  },
  {
   "cell_type": "code",
   "execution_count": null,
   "id": "yellow-emerald",
   "metadata": {
    "execution": {
     "iopub.execute_input": "2021-04-05T02:24:26.450023Z",
     "iopub.status.busy": "2021-04-05T02:24:26.449000Z",
     "iopub.status.idle": "2021-04-05T02:24:39.367660Z",
     "shell.execute_reply": "2021-04-05T02:24:39.368302Z"
    },
    "papermill": {
     "duration": 16.612297,
     "end_time": "2021-04-05T02:24:39.368477",
     "exception": false,
     "start_time": "2021-04-05T02:24:22.756180",
     "status": "completed"
    },
    "tags": []
   },
   "outputs": [
    {
     "name": "stdout",
     "output_type": "stream",
     "text": [
      "# 1 News:  spanish fashion retailer zara withdrawn skirt website facing criticism featuring pepe frog internet mtheme turned symbol white nationalist altright movthement zara seriously wallet shopping elsewhere commented user hmm pepe zara skirt wtf read another comment \n",
      "Original summary:  start zara withdraws skirt featuring pepe frog altright mtheme end \n",
      "Predicted summary:   sostok abvp instagram dthemocracy filed filed filed volcano start india end end\n",
      "\n",
      "# 2 News:  elections fill vacant seats rajya sabha held today mthembers elected unopposed one seats facing byelections kerala mp resigned mber mthembers uttar pradesh maharashtra bihar six mthembers gujarat four \n",
      "Original summary:  start explained details rajya sabha election held today end \n",
      "Predicted summary:   sostok fm ied using lawyer lawyer lawyer birth start india end end\n",
      "\n",
      "# 3 News:  first posthumous nobel prize awarded swedens erik karlfeldt literature posthumous nobel peace prize given youngest united nations secretarygeneral dag hamkjaald economist william vickrey died presentation certhemony ralph steinman given medicine nobel posthumously committee aware death \n",
      "Original summary:  start rare cases nobel prize given death end \n",
      "Predicted summary:   sostok mission sought governor governor feet techies start india end end end\n",
      "\n",
      "# 4 News:  titanic actors leonardo dico kate winslet auctioning dinner two ththem leonardo dico foundations fourth annual gala wednesday charity dinner among auction itthems available bidders event take place france nonprofit organisation raised crore charity auction last year \n",
      "Original summary:  start titanic stars leonardo kate auction dinner date charity end \n",
      "Predicted summary:   sostok feud afghan afghan afghan afghan afghan start india end end end\n",
      "\n",
      "# 5 News:  zaheer khans fiancaae actor sagarika ghatge posted picture instagram couple zaheer flaunts new cleanshaven look sagarika captioned picture came back home stranger zakkhan breakthebeard rather well cricketers including ravindra jadeja hardik pandya rohit sharma ajinkya rahane also posted breakthebeard selfies instagram earlier \n",
      "Original summary:  start zaheer broke beard rather well says fiancaae sagarika end \n",
      "Predicted summary:   sostok radhika hit google rape mutilated mirrors post start india end end\n",
      "\n",
      "# 6 News:  killer whale stopped carrying dead newborn calf least days covered km according researchers killer whales known carry dead calves week researchers said mother set record tour grief behaviour rthemarkably frisky researchers added \n",
      "Original summary:  start killer whale abandons dead newborn calf days end \n",
      "Predicted summary:   sostok code code code unidentified bayern bayern start india end end end\n",
      "\n",
      "# 7 News:  letter election commission madhya pradesh congress committee alleged pm narendra modi violated model code conduct speech pollbound state alleged pm modi falsely accused state congress chief kamal nath saying video party give tickets goons win elections \n",
      "Original summary:  start pm modi violated poll code mp congress letter ec end \n",
      "Predicted summary:   sostok delhi years hits body record quitting golden golden golden start india\n",
      "\n",
      "# 8 News:  malls hotels restaurants bengaluru directed provide free clean drinking water customers citys civic body bruhat bengaluru mahanagara palike move reportedly came consumer forum hearing case filed yearold woman claimed denied free water kfc outlet \n",
      "Original summary:  start bengaluru malls restaurants provide free drinking water end \n",
      "Predicted summary:   sostok boy citing citing airport travelling runs karnataka start india end end\n",
      "\n",
      "# 9 News:  reserve bank new zealand acting governor grant spencer said bitcoin unstable useful future adding cryptocurrency looks rthemarkably like bubble said bubble never know far going go comes notably bitcoin soared year \n",
      "Original summary:  start bitcoin unstable useful nz central bank chief end \n",
      "Predicted summary:   sostok viral pic st check pic cr deliveroo start india end end\n",
      "\n",
      "# 10 News:  indias batting coach sanjay bangar said void team coach anil kumbles resignation team coping well professionals things part parcel organisation changes happen support staff players shown lot professionalism compartmentalising issues said bangar \n",
      "Original summary:  start void kumbles exit india batting coach end \n",
      "Predicted summary:   sostok today swara trainer rbi rbi rbi start india end end end\n",
      "\n"
     ]
    }
   ],
   "source": [
    "# Testing on training data\n",
    "for i in range(0, 10):\n",
    "    print(f\"# {i+1} News: \", seq2text(x_train_padded[i]))\n",
    "    print(\"Original summary: \", seq2summary(y_train_padded[i]))\n",
    "    print(\n",
    "        \"Predicted summary: \",\n",
    "        decode_sequence_func(\n",
    "            x_train_padded[i].reshape(1, max_text_len), encoder_model,\n",
    "            decoder_model\n",
    "        )\n",
    "    )\n",
    "    print()"
   ]
  }
 ],
 "metadata": {
  "kernelspec": {
   "display_name": "Python 3",
   "language": "python",
   "name": "python3"
  },
  "language_info": {
   "codemirror_mode": {
    "name": "ipython",
    "version": 3
   },
   "file_extension": ".py",
   "mimetype": "text/x-python",
   "name": "python",
   "nbconvert_exporter": "python",
   "pygments_lexer": "ipython3",
   "version": "3.12.0"
  },
  "papermill": {
   "default_parameters": {},
   "duration": 1835.082356,
   "end_time": "2021-04-05T02:24:54.120622",
   "environment_variables": {},
   "exception": null,
   "input_path": "__notebook__.ipynb",
   "output_path": "__notebook__.ipynb",
   "parameters": {},
   "start_time": "2021-04-05T01:54:19.038266",
   "version": "2.3.2"
  }
 },
 "nbformat": 4,
 "nbformat_minor": 5
}
